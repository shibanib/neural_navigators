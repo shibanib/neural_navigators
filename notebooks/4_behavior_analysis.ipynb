{
 "cells": [
  {
   "cell_type": "markdown",
   "metadata": {},
   "source": [
    "# Behavioral Analysis of Steinmetz Dataset\n",
    "\n",
    "This notebook analyzes behavioral data and its neural correlates, including:\n",
    "1. Choice probability analysis\n",
    "2. Reaction time analysis\n",
    "3. Sequential effects in behavior\n",
    "4. Neural prediction of behavior"
   ]
  },
  {
   "cell_type": "code",
   "execution_count": null,
   "metadata": {},
   "source": [
    "import sys\n",
    "sys.path.append('../src')\n",
    "\n",
    "import numpy as np\n",
    "import matplotlib.pyplot as plt\n",
    "import seaborn as sns\n",
    "from sklearn.model_selection import train_test_split\n",
    "from sklearn.metrics import roc_curve, auc\n",
    "from data_loader import SteinmetzDataLoader\n",
    "from neural_analysis import NeuralAnalyzer\n",
    "from behavior_analysis import BehaviorAnalyzer\n",
    "\n",
    "# Set plotting style\n",
    "plt.style.use('seaborn')\n",
    "sns.set_context(\"talk\")"
   ]
  },
  {
   "cell_type": "markdown",
   "metadata": {},
   "source": [
    "## 1. Data Loading and Preparation"
   ]
  },
  {
   "cell_type": "code",
   "execution_count": null,
   "metadata": {},
   "source": [
    "# Initialize analyzers and load data\n",
    "loader = SteinmetzDataLoader()\n",
    "neural_analyzer = NeuralAnalyzer()\n",
    "behavior_analyzer = BehaviorAnalyzer()\n",
    "\n",
    "# Load session data\n",
    "loader.download_data()\n",
    "session_data = loader.load_session(11)  # Using session 11 as an example\n",
    "\n",
    "# Generate example behavioral data (replace with actual data when available)\n",
    "n_trials = len(session_data['spikes'][0])\n",
    "example_choices = np.random.randint(0, 2, n_trials)\n",
    "example_outcomes = np.random.randint(0, 2, n_trials)\n",
    "example_reaction_times = np.random.gamma(shape=5, scale=0.1, size=n_trials)"
   ]
  },
  {
   "cell_type": "markdown",
   "metadata": {},
   "source": [
    "## 2. Choice Probability Analysis"
   ]
  },
  {
   "cell_type": "code",
   "execution_count": null,
   "metadata": {},
   "source": [
    "def prepare_choice_data(spikes, choices, time_window=(0, 0.3)):\n",
    "    \"\"\"Prepare neural data for choice probability analysis.\"\"\"\n",
    "    n_neurons = len(spikes)\n",
    "    n_trials = len(choices)\n",
    "    firing_rates = np.zeros((n_neurons, n_trials))\n",
    "    \n",
    "    for i in range(n_neurons):\n",
    "        for j in range(n_trials):\n",
    "            # Count spikes in the decision window\n",
    "            trial_spikes = spikes[i][j]\n",
    "            mask = (trial_spikes >= time_window[0]) & (trial_spikes < time_window[1])\n",
    "            firing_rates[i, j] = np.sum(mask) / (time_window[1] - time_window[0])\n",
    "    \n",
    "    return firing_rates\n",
    "\n",
    "# Compute firing rates during decision window\n",
    "firing_rates = prepare_choice_data(session_data['spikes'], example_choices)\n",
    "\n",
    "# Compute choice probability\n",
    "choice_probs, p_values = behavior_analyzer.compute_choice_probability(firing_rates, example_choices)\n",
    "\n",
    "# Plot distribution of choice probabilities\n",
    "plt.figure(figsize=(10, 6))\n",
    "plt.hist(choice_probs, bins=30)\n",
    "plt.axvline(x=0.5, color='r', linestyle='--', label='Chance level')\n",
    "plt.xlabel('Choice Probability')\n",
    "plt.ylabel('Number of Neurons')\n",
    "plt.title('Distribution of Choice Probabilities')\n",
    "plt.legend()\n",
    "plt.show()\n",
    "\n",
    "# Print summary statistics\n",
    "print(f\"Mean choice probability: {np.mean(choice_probs):.3f}\")\n",
    "print(f\"Significant neurons (p < 0.05): {np.sum(p_values < 0.05)}\")"
   ]
  },
  {
   "cell_type": "markdown",
   "metadata": {},
   "source": [
    "## 3. Reaction Time Analysis"
   ]
  },
  {
   "cell_type": "code",
   "execution_count": null,
   "metadata": {},
   "source": [
    "# Create example conditions\n",
    "conditions = {\n",
    "    'stimulus_contrast': np.random.choice(['high', 'medium', 'low'], size=n_trials),\n",
    "    'previous_outcome': np.random.choice(['correct', 'error'], size=n_trials)\n",
    "}\n",
    "\n",
    "# Analyze reaction times\n",
    "rt_results = behavior_analyzer.analyze_reaction_times(example_reaction_times, conditions)\n",
    "\n",
    "# Plot RT distributions by condition\n",
    "fig, axes = plt.subplots(2, 1, figsize=(12, 8))\n",
    "\n",
    "# Plot RT by stimulus contrast\n",
    "contrast_stats = rt_results['stimulus_contrast']\n",
    "axes[0].bar(range(len(contrast_stats['labels'])), \n",
    "           contrast_stats['means'],\n",
    "           yerr=contrast_stats['sems'])\n",
    "axes[0].set_xticks(range(len(contrast_stats['labels'])))\n",
    "axes[0].set_xticklabels(contrast_stats['labels'])\n",
    "axes[0].set_xlabel('Stimulus Contrast')\n",
    "axes[0].set_ylabel('Reaction Time (s)')\n",
    "\n",
    "# Plot RT by previous outcome\n",
    "outcome_stats = rt_results['previous_outcome']\n",
    "axes[1].bar(range(len(outcome_stats['labels'])), \n",
    "           outcome_stats['means'],\n",
    "           yerr=outcome_stats['sems'])\n",
    "axes[1].set_xticks(range(len(outcome_stats['labels'])))\n",
    "axes[1].set_xticklabels(outcome_stats['labels'])\n",
    "axes[1].set_xlabel('Previous Outcome')\n",
    "axes[1].set_ylabel('Reaction Time (s)')\n",
    "\n",
    "plt.tight_layout()\n",
    "plt.show()"
   ]
  },
  {
   "cell_type": "markdown",
   "metadata": {},
   "source": [
    "## 4. Sequential Effects Analysis"
   ]
  },
  {
   "cell_type": "code",
   "execution_count": null,
   "metadata": {},
   "source": [
    "# Analyze sequential effects\n",
    "seq_effects = behavior_analyzer.compute_sequential_effects(example_choices, example_outcomes)\n",
    "\n",
    "# Plot sequential effects\n",
    "plt.figure(figsize=(10, 6))\n",
    "effects = ['stay_after_reward', 'switch_after_error']\n",
    "probabilities = [seq_effects[effect] for effect in effects]\n",
    "\n",
    "plt.bar(range(len(effects)), probabilities)\n",
    "plt.axhline(y=0.5, color='r', linestyle='--', label='Chance level')\n",
    "plt.xticks(range(len(effects)), ['Stay after reward', 'Switch after error'])\n",
    "plt.ylabel('Probability')\n",
    "plt.title('Sequential Effects in Choice Behavior')\n",
    "plt.legend()\n",
    "plt.show()"
   ]
  },
  {
   "cell_type": "markdown",
   "metadata": {},
   "source": [
    "## 5. Neural Prediction of Choice"
   ]
  },
  {
   "cell_type": "code",
   "execution_count": null,
   "metadata": {},
   "source": [
    "# Prepare neural features for choice prediction\n",
    "neural_features = firing_rates.T  # trials x neurons\n",
    "\n",
    "# Train and evaluate model\n",
    "accuracy, model = behavior_analyzer.predict_choice(neural_features, example_choices)\n",
    "\n",
    "# Get predictions for ROC curve\n",
    "y_pred = model.predict_proba(neural_features)[:, 1]\n",
    "fpr, tpr, _ = roc_curve(example_choices, y_pred)\n",
    "roc_auc = auc(fpr, tpr)\n",
    "\n",
    "# Plot ROC curve\n",
    "plt.figure(figsize=(8, 8))\n",
    "plt.plot(fpr, tpr, label=f'ROC curve (AUC = {roc_auc:.2f})')\n",
    "plt.plot([0, 1], [0, 1], 'k--')\n",
    "plt.xlim([0.0, 1.0])\n",
    "plt.ylim([0.0, 1.05])\n",
    "plt.xlabel('False Positive Rate')\n",
    "plt.ylabel('True Positive Rate')\n",
    "plt.title('ROC Curve for Choice Prediction')\n",
    "plt.legend(loc=\"lower right\")\n",
    "plt.show()\n",
    "\n",
    "print(f\"Choice prediction accuracy: {accuracy:.3f}\")"
   ]
  }
 ],
 "metadata": {
  "kernelspec": {
   "display_name": "Python 3",
   "language": "python",
   "name": "python3"
  }
 },
 "nbformat": 4,
 "nbformat_minor": 2
} 