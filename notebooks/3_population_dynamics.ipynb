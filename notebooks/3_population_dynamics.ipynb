{
 "cells": [
  {
   "cell_type": "markdown",
   "metadata": {},
   "source": [
    "# Population Dynamics Analysis of Steinmetz Dataset\n",
    "\n",
    "This notebook analyzes neural population dynamics, including:\n",
    "1. Dimensionality reduction using PCA\n",
    "2. Neural trajectories during decision-making\n",
    "3. Population coding of task variables\n",
    "4. State space analysis"
   ]
  },
  {
   "cell_type": "code",
   "execution_count": null,
   "metadata": {},
   "source": [
    "import sys\n",
    "sys.path.append('../src')\n",
    "\n",
    "import numpy as np\n",
    "import matplotlib.pyplot as plt\n",
    "import seaborn as sns\n",
    "from sklearn.decomposition import PCA\n",
    "from sklearn.preprocessing import StandardScaler\n",
    "from data_loader import SteinmetzDataLoader\n",
    "from neural_analysis import NeuralAnalyzer\n",
    "\n",
    "# Set plotting style\n",
    "plt.style.use('seaborn')\n",
    "sns.set_context(\"talk\")"
   ]
  },
  {
   "cell_type": "markdown",
   "metadata": {},
   "source": [
    "## 1. Data Loading and Preparation"
   ]
  },
  {
   "cell_type": "code",
   "execution_count": null,
   "metadata": {},
   "source": [
    "# Initialize data loader and load session\n",
    "loader = SteinmetzDataLoader()\n",
    "loader.download_data()\n",
    "session_data = loader.load_session(11)  # Using session 11 as an example\n",
    "\n",
    "# Initialize neural analyzer\n",
    "analyzer = NeuralAnalyzer()\n",
    "\n",
    "# Prepare population activity data\n",
    "time_bins = np.arange(-0.5, 0.5, 0.01)  # -500ms to 500ms, 10ms bins\n",
    "firing_rates = loader.compute_firing_rates(session_data['spikes'], time_bins)\n",
    "\n",
    "print(f\"Population activity shape: {firing_rates.shape}\")"
   ]
  },
  {
   "cell_type": "markdown",
   "metadata": {},
   "source": [
    "## 2. Dimensionality Reduction"
   ]
  },
  {
   "cell_type": "code",
   "execution_count": null,
   "metadata": {},
   "source": [
    "# Standardize the data\n",
    "scaler = StandardScaler()\n",
    "scaled_rates = scaler.fit_transform(firing_rates.T).T\n",
    "\n",
    "# Apply PCA\n",
    "pca = PCA()\n",
    "projected_data = pca.fit_transform(scaled_rates.T).T\n",
    "\n",
    "# Plot explained variance ratio\n",
    "plt.figure(figsize=(10, 6))\n",
    "plt.plot(np.cumsum(pca.explained_variance_ratio_))\n",
    "plt.xlabel('Number of Components')\n",
    "plt.ylabel('Cumulative Explained Variance Ratio')\n",
    "plt.title('PCA Explained Variance')\n",
    "plt.grid(True)\n",
    "plt.show()\n",
    "\n",
    "# Print number of components needed for 80% variance\n",
    "n_components_80 = np.where(np.cumsum(pca.explained_variance_ratio_) >= 0.8)[0][0] + 1\n",
    "print(f\"Number of components needed for 80% variance: {n_components_80}\")"
   ]
  },
  {
   "cell_type": "markdown",
   "metadata": {},
   "source": [
    "## 3. Neural Trajectories"
   ]
  },
  {
   "cell_type": "code",
   "execution_count": null,
   "metadata": {},
   "source": [
    "def plot_3d_trajectory(projected_data, time_points):\n",
    "    \"\"\"Plot neural trajectory in 3D space of first three PCs.\"\"\"\n",
    "    from mpl_toolkits.mplot3d import Axes3D\n",
    "    \n",
    "    fig = plt.figure(figsize=(12, 8))\n",
    "    ax = fig.add_subplot(111, projection='3d')\n",
    "    \n",
    "    scatter = ax.scatter(projected_data[0], \n",
    "                        projected_data[1], \n",
    "                        projected_data[2],\n",
    "                        c=time_points,\n",
    "                        cmap='viridis')\n",
    "    \n",
    "    plt.colorbar(scatter, label='Time (s)')\n",
    "    ax.set_xlabel('PC1')\n",
    "    ax.set_ylabel('PC2')\n",
    "    ax.set_zlabel('PC3')\n",
    "    plt.title('Neural Population Trajectory')\n",
    "    \n",
    "    return fig\n",
    "\n",
    "# Plot neural trajectory\n",
    "plot_3d_trajectory(projected_data[:3], time_bins[:-1])\n",
    "plt.show()"
   ]
  },
  {
   "cell_type": "markdown",
   "metadata": {},
   "source": [
    "## 4. Population Dynamics by Brain Region"
   ]
  },
  {
   "cell_type": "code",
   "execution_count": null,
   "metadata": {},
   "source": [
    "def analyze_regional_dynamics(firing_rates, brain_regions):\n",
    "    \"\"\"Analyze population dynamics separately for each brain region.\"\"\"\n",
    "    unique_regions = np.unique(brain_regions)\n",
    "    \n",
    "    fig, axes = plt.subplots(len(unique_regions), 1, \n",
    "                            figsize=(12, 4*len(unique_regions)))\n",
    "    \n",
    "    for i, region in enumerate(unique_regions):\n",
    "        # Get neurons from this region\n",
    "        region_mask = brain_regions == region\n",
    "        region_rates = firing_rates[region_mask]\n",
    "        \n",
    "        if len(region_rates) > 0:\n",
    "            # Apply PCA to regional activity\n",
    "            pca = PCA(n_components=3)\n",
    "            projected = pca.fit_transform(region_rates.T).T\n",
    "            \n",
    "            # Plot first PC\n",
    "            if len(unique_regions) == 1:\n",
    "                ax = axes\n",
    "            else:\n",
    "                ax = axes[i]\n",
    "                \n",
    "            ax.plot(time_bins[:-1], projected[0])\n",
    "            ax.set_title(f'{region} (n={len(region_rates)} neurons)')\n",
    "            ax.set_xlabel('Time (s)')\n",
    "            ax.set_ylabel('PC1')\n",
    "            ax.axvline(x=0, color='r', linestyle='--', alpha=0.5)\n",
    "    \n",
    "    plt.tight_layout()\n",
    "    return fig\n",
    "\n",
    "# Example brain regions (replace with actual regions from your data)\n",
    "example_regions = np.random.choice(['V1', 'V2', 'MT'], size=len(session_data['spikes']))\n",
    "analyze_regional_dynamics(firing_rates, example_regions)\n",
    "plt.show()"
   ]
  },
  {
   "cell_type": "markdown",
   "metadata": {},
   "source": [
    "## 5. State Space Analysis"
   ]
  },
  {
   "cell_type": "code",
   "execution_count": null,
   "metadata": {},
   "source": [
    "def compute_state_space_metrics(projected_data):\n",
    "    \"\"\"Compute metrics in neural state space.\"\"\"\n",
    "    # Compute speed (rate of change)\n",
    "    velocity = np.diff(projected_data, axis=1)\n",
    "    speed = np.sqrt(np.sum(velocity**2, axis=0))\n",
    "    \n",
    "    # Compute distance from starting point\n",
    "    start_point = projected_data[:, 0:1]\n",
    "    distances = np.sqrt(np.sum((projected_data - start_point)**2, axis=0))\n",
    "    \n",
    "    return speed, distances\n",
    "\n",
    "# Compute and plot state space metrics\n",
    "speed, distances = compute_state_space_metrics(projected_data[:3])\n",
    "\n",
    "fig, (ax1, ax2) = plt.subplots(2, 1, figsize=(12, 8))\n",
    "\n",
    "# Plot speed\n",
    "ax1.plot(time_bins[1:-1], speed)\n",
    "ax1.set_xlabel('Time (s)')\n",
    "ax1.set_ylabel('Speed in State Space')\n",
    "ax1.axvline(x=0, color='r', linestyle='--', alpha=0.5)\n",
    "\n",
    "# Plot distance from start\n",
    "ax2.plot(time_bins[:-1], distances)\n",
    "ax2.set_xlabel('Time (s)')\n",
    "ax2.set_ylabel('Distance from Start')\n",
    "ax2.axvline(x=0, color='r', linestyle='--', alpha=0.5)\n",
    "\n",
    "plt.tight_layout()\n",
    "plt.show()"
   ]
  }
 ],
 "metadata": {
  "kernelspec": {
   "display_name": "Python 3",
   "language": "python",
   "name": "python3"
  }
 },
 "nbformat": 4,
 "nbformat_minor": 2
} 