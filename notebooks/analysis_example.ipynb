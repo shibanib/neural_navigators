{
 "cells": [
  {
   "cell_type": "markdown",
   "metadata": {},
   "source": [
    "# Example Analysis of Steinmetz Dataset\n",
    "\n",
    "This notebook demonstrates basic usage of all analysis tools and visualization functions. It serves as a quick-start guide for analyzing the Steinmetz dataset."
   ]
  },
  {
   "cell_type": "code",
   "execution_count": null,
   "metadata": {},
   "source": [
    "import sys\n",
    "sys.path.append('../src')\n",
    "\n",
    "import numpy as np\n",
    "import matplotlib.pyplot as plt\n",
    "import seaborn as sns\n",
    "from data_loader import SteinmetzDataLoader\n",
    "from neural_analysis import NeuralAnalyzer\n",
    "from behavior_analysis import BehaviorAnalyzer\n",
    "from visualization import NeuralViz\n",
    "\n",
    "# Set plotting style\n",
    "plt.style.use('seaborn')\n",
    "sns.set_context(\"talk\")"
   ]
  },
  {
   "cell_type": "markdown",
   "metadata": {},
   "source": [
    "## 1. Data Loading and Basic Visualization"
   ]
  },
  {
   "cell_type": "code",
   "execution_count": null,
   "metadata": {},
   "source": [
    "# Initialize components\n",
    "loader = SteinmetzDataLoader()\n",
    "analyzer = NeuralAnalyzer()\n",
    "behavior_analyzer = BehaviorAnalyzer()\n",
    "viz = NeuralViz()\n",
    "\n",
    "# Load example session\n",
    "session_data = loader.load_session(11)\n",
    "\n",
    "# Create raster plot for first neuron\n",
    "example_spikes = session_data['spikes'][0]\n",
    "example_trials = np.arange(len(example_spikes))\n",
    "viz.plot_raster(example_spikes[0], example_trials, (-0.5, 0.5), \n",
    "                title='Example Neuron Raster Plot')\n",
    "plt.show()"
   ]
  },
  {
   "cell_type": "markdown",
   "metadata": {},
   "source": [
    "## 2. Neural Activity Analysis"
   ]
  },
  {
   "cell_type": "code",
   "execution_count": null,
   "metadata": {},
   "source": [
    "# Compute PSTH\n",
    "psth, time_bins = analyzer.compute_psth(\n",
    "    session_data['spikes'][0],\n",
    "    time_window=(-0.5, 0.5)\n",
    ")\n",
    "\n",
    "# Plot PSTH\n",
    "plt.figure(figsize=(10, 6))\n",
    "plt.plot(time_bins, psth)\n",
    "plt.axvline(x=0, color='r', linestyle='--', alpha=0.5)\n",
    "plt.xlabel('Time from stimulus onset (s)')\n",
    "plt.ylabel('Firing rate (Hz)')\n",
    "plt.title('Peri-Stimulus Time Histogram')\n",
    "plt.show()"
   ]
  },
  {
   "cell_type": "markdown",
   "metadata": {},
   "source": [
    "## 3. LFP Analysis Example"
   ]
  },
  {
   "cell_type": "code",
   "execution_count": null,
   "metadata": {},
   "source": [
    "# Compute LFP power spectrum\n",
    "freqs, power = analyzer.compute_lfp_power(\n",
    "    session_data['lfp'][:, 0],  # First channel\n",
    "    freq_range=(1, 100)\n",
    ")\n",
    "\n",
    "# Plot power spectrum\n",
    "plt.figure(figsize=(10, 6))\n",
    "plt.semilogy(freqs, power)\n",
    "plt.xlabel('Frequency (Hz)')\n",
    "plt.ylabel('Power')\n",
    "plt.title('LFP Power Spectrum')\n",
    "plt.grid(True)\n",
    "plt.show()"
   ]
  },
  {
   "cell_type": "markdown",
   "metadata": {},
   "source": [
    "## 4. Population Analysis Example"
   ]
  },
  {
   "cell_type": "code",
   "execution_count": null,
   "metadata": {},
   "source": [
    "# Prepare population data\n",
    "time_bins = np.arange(-0.5, 0.5, 0.01)\n",
    "firing_rates = loader.compute_firing_rates(session_data['spikes'], time_bins)\n",
    "\n",
    "# Create population activity heatmap\n",
    "viz.plot_population_activity(firing_rates, time_bins, sort_by='rate')\n",
    "plt.title('Population Activity (sorted by firing rate)')\n",
    "plt.show()"
   ]
  },
  {
   "cell_type": "markdown",
   "metadata": {},
   "source": [
    "## 5. Behavioral Analysis Example"
   ]
  },
  {
   "cell_type": "code",
   "execution_count": null,
   "metadata": {},
   "source": [
    "# Generate example behavioral data\n",
    "n_trials = len(session_data['spikes'][0])\n",
    "example_choices = np.random.randint(0, 2, n_trials)\n",
    "example_outcomes = np.random.randint(0, 2, n_trials)\n",
    "\n",
    "# Analyze sequential effects\n",
    "seq_effects = behavior_analyzer.compute_sequential_effects(\n",
    "    example_choices, \n",
    "    example_outcomes\n",
    ")\n",
    "\n",
    "# Print results\n",
    "print(\"Sequential Effects:\")\n",
    "for key, value in seq_effects.items():\n",
    "    print(f\"{key}: {value:.3f}\")"
   ]
  },
  {
   "cell_type": "markdown",
   "metadata": {},
   "source": [
    "## 6. Cross-Regional Analysis Example"
   ]
  },
  {
   "cell_type": "code",
   "execution_count": null,
   "metadata": {},
   "source": [
    "# Compute coherence between two LFP channels\n",
    "from scipy import signal\n",
    "\n",
    "f, Cxy = signal.coherence(\n",
    "    session_data['lfp'][:, 0],\n",
    "    session_data['lfp'][:, 1],\n",
    "    fs=100\n",
    ")\n",
    "\n",
    "# Plot coherence\n",
    "plt.figure(figsize=(10, 6))\n",
    "plt.plot(f, Cxy)\n",
    "plt.xlabel('Frequency (Hz)')\n",
    "plt.ylabel('Coherence')\n",
    "plt.title('LFP Coherence between Two Channels')\n",
    "plt.grid(True)\n",
    "plt.show()"
   ]
  },
  {
   "cell_type": "markdown",
   "metadata": {},
   "source": [
    "## 7. Interactive Visualization Example"
   ]
  },
  {
   "cell_type": "code",
   "execution_count": null,
   "metadata": {},
   "source": [
    "# Create interactive time series plot of multiple LFP channels\n",
    "time = np.arange(1000) / 100  # 10 seconds at 100 Hz\n",
    "lfp_data = session_data['lfp'][:1000, :3]  # First 3 channels\n",
    "channel_labels = [f'Channel {i+1}' for i in range(3)]\n",
    "\n",
    "viz.create_interactive_timeseries(time, lfp_data, channel_labels)"
   ]
  },
  {
   "cell_type": "markdown",
   "metadata": {},
   "source": [
    "## 8. Summary Dashboard"
   ]
  },
  {
   "cell_type": "code",
   "execution_count": null,
   "metadata": {},
   "source": [
    "# Create summary dashboard\n",
    "summary_data = {\n",
    "    'PSTH': psth,\n",
    "    'LFP Power': power,\n",
    "    'Population Activity': firing_rates[:10],  # First 10 neurons\n",
    "    'LFP Coherence': Cxy\n",
    "}\n",
    "\n",
    "viz.create_summary_plot(summary_data, plot_type='dashboard')\n",
    "plt.suptitle('Analysis Summary Dashboard', y=1.02)\n",
    "plt.show()"
   ]
  }
 ],
 "metadata": {
  "kernelspec": {
   "display_name": "Python 3",
   "language": "python",
   "name": "python3"
  }
 },
 "nbformat": 4,
 "nbformat_minor": 2
} 