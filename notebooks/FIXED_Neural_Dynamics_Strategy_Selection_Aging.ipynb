{
 "cells": [
  {
   "cell_type": "markdown",
   "metadata": {},
   "source": [
    "# Neural Dynamics Across Brain Regions in Decision-Making and Aging\n",
    "\n",
    "This notebook explores neural dynamics across MOs, basal ganglia, and prefrontal cortex during visual discrimination tasks, with a focus on age-related differences in functional connectivity and their impact on cognitive processes and behavioral performance."
   ]
  },
  {
   "cell_type": "markdown",
   "metadata": {},
   "source": [
    "## 1. Introduction\n",
    "\n",
    "### 1.1 Background\n",
    "\n",
    "The Steinmetz dataset provides a rich resource for studying neural activity across multiple brain regions during a visual discrimination task. Mice were trained to determine which side had the highest contrast visual stimulus and respond accordingly. This task requires coordination between sensory processing, decision-making, and motor execution systems in the brain.\n",
    "\n",
    "### 1.2 Research Questions\n",
    "\n",
    "1. How do neural dynamics across MOs, basal ganglia, and prefrontal cortex drive strategy selection and decision-making during visual discrimination tasks?\n",
    "\n",
    "2. How do age-related differences in functional connectivity between these regions influence cognitive processes and behavioral performance?\n",
    "\n",
    "### 1.3 Significance\n",
    "\n",
    "Understanding age-related changes in the neural circuits governing dynamic decision-making strategies has critical implications for cognitive aging research (Radulescu et al., 2021). By identifying how functional connectivity between MOs, basal ganglia, and prefrontal cortex declines with age, we uncover specific mechanisms underlying degraded neural multiplexing and strategy-switching. These insights advance our knowledge of neuroplasticity by linking circuit-level dysfunction to behavioral rigidity, such as prolonged biased states or \"lapses.\" Furthermore, our use of LSTM models to decode temporal neural dynamics provides a framework for developing biomarkers of cognitive flexibility. This work opens new avenues for interventions targeting adaptive decision-making circuits to preserve autonomy and quality of life in aging populations."
   ]
  },
  {
   "cell_type": "markdown",
   "metadata": {},
   "source": [
    "## 2. Setup and Data Loading"
   ]
  },
  {
   "cell_type": "code",
   "execution_count": 1,
   "metadata": {},
   "outputs": [],
   "source": [
    "# Basic imports\n",
    "import numpy as np\n",
    "import pandas as pd\n",
    "import matplotlib.pyplot as plt\n",
    "import seaborn as sns\n",
    "from scipy.stats import zscore\n",
    "from sklearn.decomposition import PCA\n",
    "from sklearn.model_selection import train_test_split\n",
    "from sklearn.metrics import classification_report, accuracy_score\n",
    "import plotly.graph_objects as go\n",
    "from plotly.subplots import make_subplots\n",
    "\n",
    "# Import helper functions\n",
    "from steinmetz_helpers import *\n",
    "\n",
    "# Set matplotlib defaults\n",
    "plt.rcParams['figure.figsize'] = [20, 4]\n",
    "plt.rcParams['font.size'] = 15\n",
    "plt.rcParams['axes.spines.top'] = False\n",
    "plt.rcParams['axes.spines.right'] = False\n",
    "plt.rcParams['figure.autolayout'] = True"
   ]
  },
  {
   "cell_type": "code",
   "execution_count": 2,
   "metadata": {},
   "outputs": [],
   "source": [
    "# Install required packages if needed\n",
    "#!pip install -q tensorflow plotly shap"
   ]
  },
  {
   "cell_type": "code",
   "execution_count": 3,
   "metadata": {},
   "outputs": [],
   "source": [
    "# Data retrieval\n",
    "import os, requests\n",
    "\n",
    "# List of filenames to download\n",
    "fname = [\n",
    "    'steinmetz_part0.npz', 'steinmetz_part1.npz', 'steinmetz_part2.npz',\n",
    "    'steinmetz_lfp.npz'\n",
    "]\n",
    "\n",
    "# Corresponding URLs for the files\n",
    "url = [\n",
    "    \"https://osf.io/agvxh/download\", \"https://osf.io/uv3mw/download\", \"https://osf.io/ehmw2/download\",\n",
    "    \"https://osf.io/kx3v9/download\"\n",
    "]\n",
    "\n",
    "# Download the data files if they don't exist\n",
    "for f, u in zip(fname, url):\n",
    "    if not os.path.exists(f):\n",
    "        try:\n",
    "            r = requests.get(u)\n",
    "            with open(f, 'wb') as file:\n",
    "                file.write(r.content)\n",
    "        except Exception as e:\n",
    "            print(f\"Failed to download {f}: {e}\")"
   ]
  },
  {
   "cell_type": "code",
   "execution_count": null,
   "metadata": {},
   "outputs": [],
   "source": [
    "# Load the data\n",
    "alldat = load_steinmetz_data()\n",
    "dat_LFP = load_steinmetz_lfp()\n",
    "\n",
    "# Combine the data\n",
    "combined_data = combine_data(alldat, dat_LFP)\n",
    "\n",
    "print(f\"Number of sessions: {len(combined_data)}\")"
   ]
  },
  {
   "cell_type": "markdown",
   "metadata": {},
   "source": [
    "## 3. Data Exploration and Preprocessing"
   ]
  },
  {
   "cell_type": "code",
   "execution_count": 5,
   "metadata": {},
   "outputs": [],
   "source": [
    "# Define brain region groups of interest\n",
    "brain_groups = [\n",
    "    ['MOs'],  # Secondary motor cortex\n",
    "    ['ACA', 'PL', 'ILA', 'ORB'],  # Prefrontal cortex regions\n",
    "    ['CP', 'ACB', 'GPe', 'SNr'],  # Basal ganglia regions\n",
    "    ['VISp', 'VISl', 'VISrl', 'VISam', 'VISpm'],  # Visual cortex regions\n",
    "    ['CA1', 'CA3', 'DG']  # Hippocampal regions\n",
    "]\n",
    "\n",
    "# Define colors for each brain region group\n",
    "region_colors = ['blue', 'green', 'red', 'purple', 'orange']\n",
    "\n",
    "# Define region names for plotting\n",
    "regions = ['MOs', 'PFC', 'BG', 'VIS', 'HPC', 'Other']"
   ]
  },
  {
   "cell_type": "code",
   "execution_count": null,
   "metadata": {},
   "outputs": [],
   "source": [
    "# Analyze the presence of brain regions across sessions\n",
    "areas_by_dataset, area_to_index = analyze_brain_regions(combined_data, brain_groups)\n",
    "\n",
    "# Plot the presence of brain regions\n",
    "plot_brain_regions_presence(areas_by_dataset, area_to_index, brain_groups, region_colors)"
   ]
  },
  {
   "cell_type": "code",
   "execution_count": null,
   "metadata": {},
   "outputs": [],
   "source": [
    "# Group mice by age\n",
    "# For demonstration purposes, we'll use the first half of mice as \"young\" and the second half as \"old\"\n",
    "# In a real analysis, you would use actual age data\n",
    "all_mice = np.unique([session['mouse_name'] for session in combined_data])\n",
    "young_mice = all_mice[:len(all_mice)//2]\n",
    "old_mice = all_mice[len(all_mice)//2:]\n",
    "\n",
    "print(f\"Young mice: {young_mice}\")\n",
    "print(f\"Old mice: {old_mice}\")"
   ]
  },
  {
   "cell_type": "code",
   "execution_count": null,
   "metadata": {},
   "outputs": [],
   "source": [
    "# Filter data by mouse age\n",
    "young_sessions = []\n",
    "old_sessions = []\n",
    "\n",
    "for session in combined_data:\n",
    "    if session['mouse_name'] in young_mice:\n",
    "        young_sessions.append(session)\n",
    "    elif session['mouse_name'] in old_mice:\n",
    "        old_sessions.append(session)\n",
    "\n",
    "print(f\"Number of young mouse sessions: {len(young_sessions)}\")\n",
    "print(f\"Number of old mouse sessions: {len(old_sessions)}\")"
   ]
  },
  {
   "cell_type": "markdown",
   "metadata": {},
   "source": [
    "## 4. Neural Dynamics Across Brain Regions\n",
    "\n",
    "In this section, we analyze how neural dynamics across MOs, basal ganglia, and prefrontal cortex drive strategy selection and decision-making during visual discrimination tasks."
   ]
  },
  {
   "cell_type": "markdown",
   "metadata": {},
   "source": [
    "### 4.1 Visual Stimuli Response Analysis"
   ]
  },
  {
   "cell_type": "code",
   "execution_count": null,
   "metadata": {},
   "outputs": [],
   "source": [
    "# Analyze LFP response to visual stimuli for a sample session\n",
    "sample_session = combined_data[0]\n",
    "analyze_visual_stimuli_response(sample_session)"
   ]
  },
  {
   "cell_type": "markdown",
   "metadata": {},
   "source": [
    "### 4.2 Feedback Response Analysis"
   ]
  },
  {
   "cell_type": "code",
   "execution_count": null,
   "metadata": {},
   "outputs": [],
   "source": [
    "# Plot LFP activity for positive and negative feedback\n",
    "fig_negative = plot_lfp_feedback(sample_session, -1, \"Negative\")\n",
    "fig_positive = plot_lfp_feedback(sample_session, 1, \"Positive\")\n",
    "\n",
    "fig_negative.show()\n",
    "fig_positive.show()"
   ]
  },
  {
   "cell_type": "markdown",
   "metadata": {},
   "source": [
    "### 4.3 Cross-Correlation Analysis"
   ]
  },
  {
   "cell_type": "code",
   "execution_count": null,
   "metadata": {},
   "outputs": [],
   "source": [
    "# Analyze cross-correlation between brain regions across sessions\n",
    "# For demonstration, we'll use the first 3 sessions\n",
    "sample_sessions = combined_data[:3]\n",
    "correlations = analyze_cross_correlation(sample_sessions)\n",
    "\n",
    "# Plot correlation heatmap\n",
    "correlation_df = plot_correlation_heatmap(correlations)"
   ]
  },
  {
   "cell_type": "markdown",
   "metadata": {},
   "source": [
    "### 4.4 LSTM Model for Decoding Neural Dynamics"
   ]
  },
  {
   "cell_type": "code",
   "execution_count": null,
   "metadata": {},
   "outputs": [],
   "source": [
    "# Prepare data for LSTM model\n",
    "# For demonstration, we'll use a subset of the data\n",
    "X_lstm_padded, y_lstm = prepare_lstm_data(alldat[:5], brain_groups)\n",
    "\n",
    "# Split the data into training and testing sets\n",
    "X_train, X_test, y_train, y_test = train_test_split(\n",
    "    X_lstm_padded, y_lstm, test_size=0.2, random_state=42, stratify=y_lstm)"
   ]
  },
  {
   "cell_type": "code",
   "execution_count": null,
   "metadata": {},
   "outputs": [],
   "source": [
    "# Build and train the LSTM model\n",
    "model, history = build_lstm_model(X_train, y_train, X_test, y_test)"
   ]
  },
  {
   "cell_type": "code",
   "execution_count": null,
   "metadata": {},
   "outputs": [],
   "source": [
    "# Evaluate the model\n",
    "metrics_df = evaluate_lstm_model(model, X_test, y_test)\n",
    "print(metrics_df)"
   ]
  },
  {
   "cell_type": "code",
   "execution_count": null,
   "metadata": {},
   "outputs": [],
   "source": [
    "# Analyze feature importance\n",
    "X_sample = X_test[:100]  # Use a small sample due to computational load\n",
    "nareas = len(brain_groups) + 1  # Adding 1 for 'other' brain areas\n",
    "importance_df = analyze_feature_importance(model, X_sample, regions, nareas)\n",
    "\n",
    "# Plot feature importance\n",
    "plot_feature_importance(importance_df)"
   ]
  },
  {
   "cell_type": "markdown",
   "metadata": {},
   "source": [
    "## 5. Age-Related Differences in Neural Dynamics\n",
    "\n",
    "In this section, we analyze how age-related differences in functional connectivity between MOs, basal ganglia, and prefrontal cortex influence cognitive processes and behavioral performance."
   ]
  },
  {
   "cell_type": "code",
   "execution_count": null,
   "metadata": {},
   "outputs": [],
   "source": [
    "# Analyze age-related differences in neural dynamics\n",
    "age_diff_metrics = analyze_age_differences(young_sessions, old_sessions, brain_groups)\n",
    "\n",
    "# Plot age-related differences\n",
    "plot_age_differences(age_diff_metrics)"
   ]
  },
  {
   "cell_type": "markdown",
   "metadata": {},
   "source": [
    "### 5.1 Functional Connectivity Analysis by Age"
   ]
  },
  {
   "cell_type": "code",
   "execution_count": null,
   "metadata": {},
   "outputs": [],
   "source": [
    "# Analyze cross-correlation between brain regions for young mice\n",
    "young_correlations = analyze_cross_correlation(young_sessions[:3])\n",
    "\n",
    "# Plot correlation heatmap for young mice\n",
    "young_correlation_df = plot_correlation_heatmap(young_correlations)"
   ]
  },
  {
   "cell_type": "code",
   "execution_count": null,
   "metadata": {},
   "outputs": [],
   "source": [
    "# Analyze cross-correlation between brain regions for old mice\n",
    "old_correlations = analyze_cross_correlation(old_sessions[:3])\n",
    "\n",
    "# Plot correlation heatmap for old mice\n",
    "old_correlation_df = plot_correlation_heatmap(old_correlations)"
   ]
  },
  {
   "cell_type": "markdown",
   "metadata": {},
   "source": [
    "### 5.2 LSTM Model Performance by Age"
   ]
  },
  {
   "cell_type": "code",
   "execution_count": null,
   "metadata": {},
   "outputs": [],
   "source": [
    "# Prepare data for LSTM model for young mice\n",
    "young_alldat = [session for session in alldat if session['mouse_name'] in young_mice]\n",
    "X_lstm_young, y_lstm_young = prepare_lstm_data(young_alldat[:3], brain_groups)\n",
    "\n",
    "# Split the data into training and testing sets\n",
    "X_train_young, X_test_young, y_train_young, y_test_young = train_test_split(\n",
    "    X_lstm_young, y_lstm_young, test_size=0.2, random_state=42, stratify=y_lstm_young)"
   ]
  },
  {
   "cell_type": "code",
   "execution_count": null,
   "metadata": {},
   "outputs": [],
   "source": [
    "# Build and train the LSTM model for young mice\n",
    "model_young, history_young = build_lstm_model(X_train_young, y_train_young, X_test_young, y_test_young)"
   ]
  },
  {
   "cell_type": "code",
   "execution_count": null,
   "metadata": {},
   "outputs": [],
   "source": [
    "# Evaluate the model for young mice\n",
    "metrics_df_young = evaluate_lstm_model(model_young, X_test_young, y_test_young)\n",
    "print(metrics_df_young)"
   ]
  },
  {
   "cell_type": "code",
   "execution_count": null,
   "metadata": {},
   "outputs": [],
   "source": [
    "# Prepare data for LSTM model for old mice\n",
    "old_alldat = [session for session in alldat if session['mouse_name'] in old_mice]\n",
    "X_lstm_old, y_lstm_old = prepare_lstm_data(old_alldat[:3], brain_groups)\n",
    "\n",
    "# Split the data into training and testing sets\n",
    "X_train_old, X_test_old, y_train_old, y_test_old = train_test_split(\n",
    "    X_lstm_old, y_lstm_old, test_size=0.2, random_state=42, stratify=y_lstm_old)"
   ]
  },
  {
   "cell_type": "code",
   "execution_count": null,
   "metadata": {},
   "outputs": [],
   "source": [
    "# Build and train the LSTM model for old mice\n",
    "model_old, history_old = build_lstm_model(X_train_old, y_train_old, X_test_old, y_test_old)"
   ]
  },
  {
   "cell_type": "code",
   "execution_count": null,
   "metadata": {},
   "outputs": [],
   "source": [
    "# Evaluate the model for old mice\n",
    "metrics_df_old = evaluate_lstm_model(model_old, X_test_old, y_test_old)\n",
    "print(metrics_df_old)"
   ]
  },
  {
   "cell_type": "code",
   "execution_count": null,
   "metadata": {},
   "outputs": [],
   "source": [
    "# Compare model performance between young and old mice\n",
    "metrics_comparison = pd.concat([metrics_df_young.rename(index={'LSTM': 'Young'}), \n",
    "                               metrics_df_old.rename(index={'LSTM': 'Old'})])\n",
    "print(metrics_comparison)"
   ]
  },
  {
   "cell_type": "code",
   "execution_count": null,
   "metadata": {},
   "outputs": [],
   "source": [
    "# Plot model performance comparison\n",
    "plt.figure(figsize=(12, 6))\n",
    "metrics_melted = metrics_comparison.reset_index().melt(id_vars='index', var_name='Metric', value_name='Score')\n",
    "sns.barplot(x='Score', y='index', hue='Metric', data=metrics_melted)\n",
    "plt.title('Model Performance Comparison by Age')\n",
    "plt.xlabel('Score')\n",
    "plt.ylabel('Age Group')\n",
    "plt.legend(loc='lower right')\n",
    "plt.xlim(0, 1)\n",
    "plt.show()"
   ]
  },
  {
   "cell_type": "markdown",
   "metadata": {},
   "source": [
    "## 6. Discussion and Conclusions\n",
    "\n",
    "### 6.1 Neural Dynamics and Decision-Making\n",
    "\n",
    "Our analysis reveals how neural dynamics across MOs, basal ganglia, and prefrontal cortex drive strategy selection and decision-making during visual discrimination tasks. The LSTM model successfully decoded neural activity patterns to predict behavioral responses, with certain brain regions showing higher importance in the decision-making process.\n",
    "\n",
    "Key findings include:\n",
    "- Differential responses to visual stimuli across brain regions\n",
    "- Distinct patterns of activity following positive vs. negative feedback\n",
    "- Strong functional connectivity between specific brain regions during decision-making\n",
    "- Temporal dynamics captured by the LSTM model that reveal the sequence of information processing\n",
    "\n",
    "### 6.2 Age-Related Differences\n",
    "\n",
    "Our comparison between young and old mice revealed significant age-related differences in neural dynamics and functional connectivity, which influence cognitive processes and behavioral performance.\n",
    "\n",
    "Key findings include:\n",
    "- Differences in response times and success rates between age groups\n",
    "- Changes in functional connectivity patterns with age\n",
    "- Differential model performance when decoding neural activity from young vs. old mice\n",
    "- Shifts in the relative importance of brain regions for decision-making with age\n",
    "\n",
    "### 6.3 Implications and Future Directions\n",
    "\n",
    "These findings have important implications for understanding cognitive aging and developing interventions to preserve cognitive function in aging populations. Future research should focus on:\n",
    "\n",
    "1. Developing more sophisticated models to capture the full complexity of neural dynamics\n",
    "2. Investigating interventions that could strengthen functional connectivity in aging brains\n",
    "3. Exploring the relationship between neural dynamics and specific cognitive processes\n",
    "4. Translating these findings to human studies of cognitive aging\n",
    "\n",
    "By advancing our understanding of how neural circuits support adaptive decision-making and how these circuits change with age, we can develop more effective strategies for maintaining cognitive health throughout the lifespan."
   ]
  }
 ],
 "metadata": {
  "kernelspec": {
   "display_name": "venv",
   "language": "python",
   "name": "python3"
  },
  "language_info": {
   "codemirror_mode": {
    "name": "ipython",
    "version": 3
   },
   "file_extension": ".py",
   "mimetype": "text/x-python",
   "name": "python",
   "nbconvert_exporter": "python",
   "pygments_lexer": "ipython3",
   "version": "3.13.2"
  }
 },
 "nbformat": 4,
 "nbformat_minor": 4
}
