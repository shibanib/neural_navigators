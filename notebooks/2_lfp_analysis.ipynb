{
 "cells": [
  {
   "cell_type": "markdown",
   "metadata": {},
   "source": [
    "# LFP Analysis of Steinmetz Dataset\n",
    "\n",
    "This notebook analyzes Local Field Potential (LFP) data, including:\n",
    "1. Power spectral analysis across brain regions\n",
    "2. Phase relationships between regions\n",
    "3. LFP patterns during decision-making\n",
    "4. Spike-LFP relationships"
   ]
  },
  {
   "cell_type": "code",
   "execution_count": null,
   "metadata": {},
   "source": [
    "import sys\n",
    "sys.path.append('../src')\n",
    "\n",
    "import numpy as np\n",
    "import matplotlib.pyplot as plt\n",
    "import seaborn as sns\n",
    "from scipy import signal\n",
    "from data_loader import SteinmetzDataLoader\n",
    "from neural_analysis import NeuralAnalyzer\n",
    "\n",
    "# Set plotting style\n",
    "plt.style.use('seaborn')\n",
    "sns.set_context(\"talk\")"
   ]
  },
  {
   "cell_type": "markdown",
   "metadata": {},
   "source": [
    "## 1. Data Loading"
   ]
  },
  {
   "cell_type": "code",
   "execution_count": null,
   "metadata": {},
   "source": [
    "# Initialize data loader and load session\n",
    "loader = SteinmetzDataLoader()\n",
    "loader.download_data()\n",
    "session_data = loader.load_session(11)  # Using session 11 as an example\n",
    "\n",
    "# Initialize neural analyzer\n",
    "analyzer = NeuralAnalyzer()\n",
    "\n",
    "print(\"LFP shape:\", session_data['lfp'].shape)\n",
    "print(\"Brain areas:\", np.unique(session_data['brain_area_lfp']))"
   ]
  },
  {
   "cell_type": "markdown",
   "metadata": {},
   "source": [
    "## 2. Power Spectral Analysis"
   ]
  },
  {
   "cell_type": "code",
   "execution_count": null,
   "metadata": {},
   "source": [
    "def plot_power_spectrum_by_region(lfp_data, brain_areas, freq_range=(1, 100)):\n",
    "    \"\"\"Plot power spectra for different brain regions.\"\"\"\n",
    "    unique_areas = np.unique(brain_areas)\n",
    "    n_areas = len(unique_areas)\n",
    "    \n",
    "    fig, axes = plt.subplots(n_areas, 1, figsize=(12, 4*n_areas))\n",
    "    \n",
    "    for i, area in enumerate(unique_areas):\n",
    "        area_channels = np.where(brain_areas == area)[0]\n",
    "        \n",
    "        # Average LFP across channels in this area\n",
    "        area_lfp = np.mean(lfp_data[:, area_channels], axis=1)\n",
    "        \n",
    "        # Compute power spectrum\n",
    "        freqs, power = analyzer.compute_lfp_power(area_lfp, freq_range)\n",
    "        \n",
    "        if n_areas == 1:\n",
    "            ax = axes\n",
    "        else:\n",
    "            ax = axes[i]\n",
    "            \n",
    "        ax.semilogy(freqs, power)\n",
    "        ax.set_xlabel('Frequency (Hz)')\n",
    "        ax.set_ylabel('Power')\n",
    "        ax.set_title(f'Power Spectrum - {area}')\n",
    "        ax.grid(True)\n",
    "    \n",
    "    plt.tight_layout()\n",
    "    return fig\n",
    "\n",
    "# Plot power spectra for different brain regions\n",
    "plot_power_spectrum_by_region(session_data['lfp'], session_data['brain_area_lfp'])\n",
    "plt.show()"
   ]
  },
  {
   "cell_type": "markdown",
   "metadata": {},
   "source": [
    "## 3. Time-Frequency Analysis"
   ]
  },
  {
   "cell_type": "code",
   "execution_count": null,
   "metadata": {},
   "source": [
    "def compute_spectrogram(lfp_data, fs=100):\n",
    "    \"\"\"Compute spectrogram using short-time Fourier transform.\"\"\"\n",
    "    f, t, Sxx = signal.spectrogram(lfp_data, fs=fs, nperseg=256, noverlap=128)\n",
    "    return f, t, Sxx\n",
    "\n",
    "# Select an example channel\n",
    "channel_idx = 0\n",
    "lfp_channel = session_data['lfp'][:, channel_idx]\n",
    "\n",
    "# Compute and plot spectrogram\n",
    "f, t, Sxx = compute_spectrogram(lfp_channel)\n",
    "\n",
    "plt.figure(figsize=(12, 6))\n",
    "plt.pcolormesh(t, f, 10 * np.log10(Sxx), shading='gouraud')\n",
    "plt.ylabel('Frequency (Hz)')\n",
    "plt.xlabel('Time (s)')\n",
    "plt.title(f'Spectrogram - {session_data[\"brain_area_lfp\"][channel_idx]}')\n",
    "plt.colorbar(label='Power (dB)')\n",
    "plt.show()"
   ]
  },
  {
   "cell_type": "markdown",
   "metadata": {},
   "source": [
    "## 4. Cross-Regional Coherence"
   ]
  },
  {
   "cell_type": "code",
   "execution_count": null,
   "metadata": {},
   "source": [
    "def compute_coherence_matrix(lfp_data, brain_areas):\n",
    "    \"\"\"Compute coherence between all pairs of brain regions.\"\"\"\n",
    "    unique_areas = np.unique(brain_areas)\n",
    "    n_areas = len(unique_areas)\n",
    "    coherence_matrix = np.zeros((n_areas, n_areas))\n",
    "    \n",
    "    for i, area1 in enumerate(unique_areas):\n",
    "        channels1 = np.where(brain_areas == area1)[0]\n",
    "        lfp1 = np.mean(lfp_data[:, channels1], axis=1)\n",
    "        \n",
    "        for j, area2 in enumerate(unique_areas):\n",
    "            channels2 = np.where(brain_areas == area2)[0]\n",
    "            lfp2 = np.mean(lfp_data[:, channels2], axis=1)\n",
    "            \n",
    "            f, Cxy = signal.coherence(lfp1, lfp2, fs=100)\n",
    "            coherence_matrix[i, j] = np.mean(Cxy)\n",
    "    \n",
    "    return coherence_matrix, unique_areas\n",
    "\n",
    "# Compute and plot coherence matrix\n",
    "coherence_matrix, areas = compute_coherence_matrix(\n",
    "    session_data['lfp'], \n",
    "    session_data['brain_area_lfp']\n",
    ")\n",
    "\n",
    "plt.figure(figsize=(10, 8))\n",
    "sns.heatmap(coherence_matrix, xticklabels=areas, yticklabels=areas,\n",
    "            cmap='viridis', vmin=0, vmax=1)\n",
    "plt.title('Inter-regional LFP Coherence')\n",
    "plt.show()"
   ]
  },
  {
   "cell_type": "markdown",
   "metadata": {},
   "source": [
    "## 5. Spike-LFP Relationships"
   ]
  },
  {
   "cell_type": "code",
   "execution_count": null,
   "metadata": {},
   "source": [
    "# Select a neuron and nearby LFP channel\n",
    "neuron_idx = 0\n",
    "lfp_channel = 0\n",
    "\n",
    "# Compute spike-triggered average of LFP\n",
    "time_points, avg_lfp = analyzer.compute_spike_triggered_lfp(\n",
    "    np.concatenate(session_data['spikes'][neuron_idx]),\n",
    "    session_data['lfp'][:, lfp_channel],\n",
    "    window=(-0.1, 0.1)  # 100ms before and after spike\n",
    ")\n",
    "\n",
    "# Plot spike-triggered average\n",
    "plt.figure(figsize=(10, 6))\n",
    "plt.plot(time_points * 1000, avg_lfp)  # Convert to milliseconds\n",
    "plt.axvline(x=0, color='r', linestyle='--', alpha=0.5)\n",
    "plt.xlabel('Time from spike (ms)')\n",
    "plt.ylabel('Average LFP')\n",
    "plt.title('Spike-Triggered Average LFP')\n",
    "plt.grid(True)\n",
    "plt.show()"
   ]
  }
 ],
 "metadata": {
  "kernelspec": {
   "display_name": "Python 3",
   "language": "python",
   "name": "python3"
  }
 },
 "nbformat": 4,
 "nbformat_minor": 2
} 